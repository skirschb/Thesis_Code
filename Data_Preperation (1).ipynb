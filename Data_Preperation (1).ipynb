{
 "cells": [
  {
   "cell_type": "markdown",
   "id": "c3668fb3-5ae8-4918-90a1-f5528d4f4975",
   "metadata": {},
   "source": [
    "This worksheet shall re-form the information about the suppliers lists customers in a way that the total amount of customers in a year is known. \n",
    "Moreover it shall calculate the percentages of SCF programms and undisclosed SCF pograms in a suppliers value chain on a yearly basis between 2017 and 2021"
   ]
  },
  {
   "cell_type": "markdown",
   "id": "347b4e9e-5269-497a-8767-b1b0812a00f6",
   "metadata": {},
   "source": [
    "Author: Simon Kirschberger"
   ]
  },
  {
   "cell_type": "markdown",
   "id": "4067303d-463a-4cbd-9945-1f68087a4720",
   "metadata": {},
   "source": [
    "# Data Preperation"
   ]
  },
  {
   "cell_type": "code",
   "execution_count": 156,
   "id": "ba325d22-7dee-40d6-a323-0d7243e4989d",
   "metadata": {},
   "outputs": [],
   "source": [
    "#import relevant libraries\n",
    "import pandas as pd\n",
    "from functools import reduce\n",
    "import matplotlib.pyplot as plt\n",
    "import numpy\n",
    "from matplotlib.pyplot import figure"
   ]
  },
  {
   "cell_type": "code",
   "execution_count": 157,
   "id": "df2263db-6306-46aa-98db-497d3b553cdc",
   "metadata": {},
   "outputs": [],
   "source": [
    "#import the raw data gathered with EIKON Excel plug-in\n",
    "df_vchains= pd.read_excel(r\"C:\\Users\\Simon\\Downloads\\customerdatacopy.xlsx\")"
   ]
  },
  {
   "cell_type": "code",
   "execution_count": 232,
   "id": "c88cdc1e-7e39-416c-9802-acf20ca226b1",
   "metadata": {},
   "outputs": [
    {
     "data": {
      "text/html": [
       "<div>\n",
       "<style scoped>\n",
       "    .dataframe tbody tr th:only-of-type {\n",
       "        vertical-align: middle;\n",
       "    }\n",
       "\n",
       "    .dataframe tbody tr th {\n",
       "        vertical-align: top;\n",
       "    }\n",
       "\n",
       "    .dataframe thead th {\n",
       "        text-align: right;\n",
       "    }\n",
       "</style>\n",
       "<table border=\"1\" class=\"dataframe\">\n",
       "  <thead>\n",
       "    <tr style=\"text-align: right;\">\n",
       "      <th></th>\n",
       "      <th>ID_Supplier</th>\n",
       "      <th>Status</th>\n",
       "      <th>ID_Supplier2</th>\n",
       "      <th>Supplier_Name</th>\n",
       "      <th>ID_Supplier3</th>\n",
       "      <th>Date</th>\n",
       "      <th>ID_Supplier4</th>\n",
       "      <th>ID_Out</th>\n",
       "      <th>ID_Out2</th>\n",
       "      <th>Customer_name</th>\n",
       "      <th>SCF</th>\n",
       "      <th>Disclosure</th>\n",
       "    </tr>\n",
       "  </thead>\n",
       "  <tbody>\n",
       "    <tr>\n",
       "      <th>0</th>\n",
       "      <td>5029074200</td>\n",
       "      <td>Customer</td>\n",
       "      <td>5029074200</td>\n",
       "      <td>Traackr Inc</td>\n",
       "      <td>5029074200</td>\n",
       "      <td>2018-04-26 00:00:00</td>\n",
       "      <td>5029074200</td>\n",
       "      <td>4295903091</td>\n",
       "      <td>4295903091</td>\n",
       "      <td>Coca-Cola Co</td>\n",
       "      <td>1</td>\n",
       "      <td>1</td>\n",
       "    </tr>\n",
       "    <tr>\n",
       "      <th>1</th>\n",
       "      <td>5029074200</td>\n",
       "      <td>Customer</td>\n",
       "      <td>5029074200</td>\n",
       "      <td>Traackr Inc</td>\n",
       "      <td>5029074200</td>\n",
       "      <td>2018-04-26 00:00:00</td>\n",
       "      <td>5029074200</td>\n",
       "      <td>4295907168</td>\n",
       "      <td>4295907168</td>\n",
       "      <td>Microsoft Corp</td>\n",
       "      <td>1</td>\n",
       "      <td>0</td>\n",
       "    </tr>\n",
       "    <tr>\n",
       "      <th>2</th>\n",
       "      <td>4295914493</td>\n",
       "      <td>Customer</td>\n",
       "      <td>4295914493</td>\n",
       "      <td>Pantry Inc</td>\n",
       "      <td>4295914493</td>\n",
       "      <td>2013-06-18 00:00:00</td>\n",
       "      <td>4295914493</td>\n",
       "      <td>4295903091</td>\n",
       "      <td>4295903091</td>\n",
       "      <td>Coca-Cola Co</td>\n",
       "      <td>1</td>\n",
       "      <td>1</td>\n",
       "    </tr>\n",
       "  </tbody>\n",
       "</table>\n",
       "</div>"
      ],
      "text/plain": [
       "   ID_Supplier    Status ID_Supplier2 Supplier_Name  ID_Supplier3  \\\n",
       "0   5029074200  Customer   5029074200   Traackr Inc    5029074200   \n",
       "1   5029074200  Customer   5029074200   Traackr Inc    5029074200   \n",
       "2   4295914493  Customer   4295914493    Pantry Inc    4295914493   \n",
       "\n",
       "                  Date  ID_Supplier4      ID_Out     ID_Out2   Customer_name  \\\n",
       "0  2018-04-26 00:00:00    5029074200  4295903091  4295903091    Coca-Cola Co   \n",
       "1  2018-04-26 00:00:00    5029074200  4295907168  4295907168  Microsoft Corp   \n",
       "2  2013-06-18 00:00:00    4295914493  4295903091  4295903091    Coca-Cola Co   \n",
       "\n",
       "   SCF  Disclosure  \n",
       "0    1           1  \n",
       "1    1           0  \n",
       "2    1           1  "
      ]
     },
     "execution_count": 232,
     "metadata": {},
     "output_type": "execute_result"
    }
   ],
   "source": [
    "#inspect initital data\n",
    "df_vchains.head(3)"
   ]
  },
  {
   "cell_type": "code",
   "execution_count": 159,
   "id": "01f37bfb-a5c0-4612-a35c-0a5fc97cc61a",
   "metadata": {},
   "outputs": [],
   "source": [
    "#create a dataframe where only the customers and not the suppliers of the suppliers are included\n",
    "df_customers = df_vchains[df_vchains['Status']==\"Customer\"]"
   ]
  },
  {
   "cell_type": "code",
   "execution_count": 233,
   "id": "7f3dfc7a-10c2-421a-ba6b-3fe2a81f5c9c",
   "metadata": {},
   "outputs": [
    {
     "data": {
      "text/html": [
       "<div>\n",
       "<style scoped>\n",
       "    .dataframe tbody tr th:only-of-type {\n",
       "        vertical-align: middle;\n",
       "    }\n",
       "\n",
       "    .dataframe tbody tr th {\n",
       "        vertical-align: top;\n",
       "    }\n",
       "\n",
       "    .dataframe thead th {\n",
       "        text-align: right;\n",
       "    }\n",
       "</style>\n",
       "<table border=\"1\" class=\"dataframe\">\n",
       "  <thead>\n",
       "    <tr style=\"text-align: right;\">\n",
       "      <th></th>\n",
       "      <th>ID_Supplier</th>\n",
       "      <th>Status</th>\n",
       "      <th>ID_Supplier2</th>\n",
       "      <th>Supplier_Name</th>\n",
       "      <th>ID_Supplier3</th>\n",
       "      <th>Date</th>\n",
       "      <th>ID_Supplier4</th>\n",
       "      <th>ID_Out</th>\n",
       "      <th>ID_Out2</th>\n",
       "      <th>Customer_name</th>\n",
       "      <th>SCF</th>\n",
       "      <th>Disclosure</th>\n",
       "    </tr>\n",
       "  </thead>\n",
       "  <tbody>\n",
       "    <tr>\n",
       "      <th>0</th>\n",
       "      <td>5029074200</td>\n",
       "      <td>Customer</td>\n",
       "      <td>5029074200</td>\n",
       "      <td>Traackr Inc</td>\n",
       "      <td>5029074200</td>\n",
       "      <td>2018-04-26 00:00:00</td>\n",
       "      <td>5029074200</td>\n",
       "      <td>4295903091</td>\n",
       "      <td>4295903091</td>\n",
       "      <td>Coca-Cola Co</td>\n",
       "      <td>1</td>\n",
       "      <td>1</td>\n",
       "    </tr>\n",
       "    <tr>\n",
       "      <th>1</th>\n",
       "      <td>5029074200</td>\n",
       "      <td>Customer</td>\n",
       "      <td>5029074200</td>\n",
       "      <td>Traackr Inc</td>\n",
       "      <td>5029074200</td>\n",
       "      <td>2018-04-26 00:00:00</td>\n",
       "      <td>5029074200</td>\n",
       "      <td>4295907168</td>\n",
       "      <td>4295907168</td>\n",
       "      <td>Microsoft Corp</td>\n",
       "      <td>1</td>\n",
       "      <td>0</td>\n",
       "    </tr>\n",
       "    <tr>\n",
       "      <th>2</th>\n",
       "      <td>4295914493</td>\n",
       "      <td>Customer</td>\n",
       "      <td>4295914493</td>\n",
       "      <td>Pantry Inc</td>\n",
       "      <td>4295914493</td>\n",
       "      <td>2013-06-18 00:00:00</td>\n",
       "      <td>4295914493</td>\n",
       "      <td>4295903091</td>\n",
       "      <td>4295903091</td>\n",
       "      <td>Coca-Cola Co</td>\n",
       "      <td>1</td>\n",
       "      <td>1</td>\n",
       "    </tr>\n",
       "  </tbody>\n",
       "</table>\n",
       "</div>"
      ],
      "text/plain": [
       "   ID_Supplier    Status ID_Supplier2 Supplier_Name  ID_Supplier3  \\\n",
       "0   5029074200  Customer   5029074200   Traackr Inc    5029074200   \n",
       "1   5029074200  Customer   5029074200   Traackr Inc    5029074200   \n",
       "2   4295914493  Customer   4295914493    Pantry Inc    4295914493   \n",
       "\n",
       "                  Date  ID_Supplier4      ID_Out     ID_Out2   Customer_name  \\\n",
       "0  2018-04-26 00:00:00    5029074200  4295903091  4295903091    Coca-Cola Co   \n",
       "1  2018-04-26 00:00:00    5029074200  4295907168  4295907168  Microsoft Corp   \n",
       "2  2013-06-18 00:00:00    4295914493  4295903091  4295903091    Coca-Cola Co   \n",
       "\n",
       "   SCF  Disclosure  \n",
       "0    1           1  \n",
       "1    1           0  \n",
       "2    1           1  "
      ]
     },
     "execution_count": 233,
     "metadata": {},
     "output_type": "execute_result"
    }
   ],
   "source": [
    "#inspect the resulting dataframe\n",
    "df_customers.head(3)"
   ]
  },
  {
   "cell_type": "markdown",
   "id": "b4676711-8e62-4c0e-a6ac-1d19b621dfd4",
   "metadata": {},
   "source": [
    "One row represents one new customer for one supplier"
   ]
  },
  {
   "cell_type": "code",
   "execution_count": 161,
   "id": "f3a6add5-8ebf-4b7c-aee6-3ec7fb4fdcaf",
   "metadata": {},
   "outputs": [],
   "source": [
    "#summarize the number of new customers in in one year \n",
    "#create a column to count the unique number of new customers in a year, the number with scf programs and the number of disclosed scf programs\n",
    "sum_df=df_customers.groupby([pd.Grouper(key='Date', freq='A'), 'Supplier_Name']).agg(new_customers=('Customer_name', 'nunique'),\n",
    "         have_scf=('SCF','sum'),\n",
    "         disclose_scf=('Disclosure','sum')).reset_index(\"Date\")"
   ]
  },
  {
   "cell_type": "code",
   "execution_count": 234,
   "id": "2fc2b171-38d8-4cc4-8eb0-7e77d30a9f24",
   "metadata": {},
   "outputs": [
    {
     "data": {
      "text/html": [
       "<div>\n",
       "<style scoped>\n",
       "    .dataframe tbody tr th:only-of-type {\n",
       "        vertical-align: middle;\n",
       "    }\n",
       "\n",
       "    .dataframe tbody tr th {\n",
       "        vertical-align: top;\n",
       "    }\n",
       "\n",
       "    .dataframe thead th {\n",
       "        text-align: right;\n",
       "    }\n",
       "</style>\n",
       "<table border=\"1\" class=\"dataframe\">\n",
       "  <thead>\n",
       "    <tr style=\"text-align: right;\">\n",
       "      <th></th>\n",
       "      <th>Date</th>\n",
       "      <th>new_customers</th>\n",
       "      <th>have_scf</th>\n",
       "      <th>disclose_scf</th>\n",
       "    </tr>\n",
       "    <tr>\n",
       "      <th>Supplier_Name</th>\n",
       "      <th></th>\n",
       "      <th></th>\n",
       "      <th></th>\n",
       "      <th></th>\n",
       "    </tr>\n",
       "  </thead>\n",
       "  <tbody>\n",
       "    <tr>\n",
       "      <th>AF Group Polska Sp z o o</th>\n",
       "      <td>2010-12-31</td>\n",
       "      <td>1</td>\n",
       "      <td>0</td>\n",
       "      <td>0</td>\n",
       "    </tr>\n",
       "    <tr>\n",
       "      <th>AGR Drilling Services Pty Ltd</th>\n",
       "      <td>2010-12-31</td>\n",
       "      <td>1</td>\n",
       "      <td>1</td>\n",
       "      <td>0</td>\n",
       "    </tr>\n",
       "    <tr>\n",
       "      <th>AM Castle &amp; Co</th>\n",
       "      <td>2010-12-31</td>\n",
       "      <td>1</td>\n",
       "      <td>1</td>\n",
       "      <td>0</td>\n",
       "    </tr>\n",
       "  </tbody>\n",
       "</table>\n",
       "</div>"
      ],
      "text/plain": [
       "                                    Date  new_customers  have_scf  \\\n",
       "Supplier_Name                                                       \n",
       "AF Group Polska Sp z o o      2010-12-31              1         0   \n",
       "AGR Drilling Services Pty Ltd 2010-12-31              1         1   \n",
       "AM Castle & Co                2010-12-31              1         1   \n",
       "\n",
       "                               disclose_scf  \n",
       "Supplier_Name                                \n",
       "AF Group Polska Sp z o o                  0  \n",
       "AGR Drilling Services Pty Ltd             0  \n",
       "AM Castle & Co                            0  "
      ]
     },
     "execution_count": 234,
     "metadata": {},
     "output_type": "execute_result"
    }
   ],
   "source": [
    "#inspect the resulting df\n",
    "sum_df.head(3)"
   ]
  },
  {
   "cell_type": "markdown",
   "id": "7df6cce7-ff47-4a73-a732-ca767a46f1b0",
   "metadata": {},
   "source": [
    "One row counts the total new deals for one company in one year (2010-2022) and how many of those have a SCF program and how many of those are disclosed\n",
    "\n",
    "To know how many customers a supplier had in total in a year we have to add up the new customers of each year until that point in time\n",
    "e.g. to gaher how many customers a company had in 2013 we have to add up new customers in 2010+2011+2012+2013"
   ]
  },
  {
   "cell_type": "code",
   "execution_count": 163,
   "id": "968f2ad5-492c-48f5-b3a3-69bd37050873",
   "metadata": {},
   "outputs": [],
   "source": [
    "#split up the df into one df for each year and rename the columns for easier recognition and avoiding dupicate names when merging\n",
    "sum_df10= sum_df[sum_df['Date']==\"2010-12-31\"].rename({'Date':'Date10', 'new_customers':'new_customers10', \"have_scf\":\"have_scf10\", \"disclose_scf\":\"disclose_scf10\"}, axis=1)\n",
    "sum_df11= sum_df[sum_df['Date']==\"2011-12-31\"].rename({'Date':'Date11', 'new_customers':'new_customers11', \"have_scf\":\"have_scf11\", \"disclose_scf\":\"disclose_scf11\"}, axis=1)\n",
    "sum_df12= sum_df[sum_df['Date']==\"2012-12-31\"].rename({'Date':'Date12', 'new_customers':'new_customers12', \"have_scf\":\"have_scf12\", \"disclose_scf\":\"disclose_scf12\"}, axis=1)\n",
    "sum_df13= sum_df[sum_df['Date']==\"2013-12-31\"].rename({'Date':'Date13', 'new_customers':'new_customers13', \"have_scf\":\"have_scf13\", \"disclose_scf\":\"disclose_scf13\"}, axis=1)\n",
    "sum_df14= sum_df[sum_df['Date']==\"2014-12-31\"].rename({'Date':'Date14', 'new_customers':'new_customers14', \"have_scf\":\"have_scf14\", \"disclose_scf\":\"disclose_scf14\"}, axis=1)\n",
    "sum_df15= sum_df[sum_df['Date']==\"2015-12-31\"].rename({'Date':'Date15', 'new_customers':'new_customers15', \"have_scf\":\"have_scf15\", \"disclose_scf\":\"disclose_scf15\"}, axis=1)\n",
    "sum_df16= sum_df[sum_df['Date']==\"2016-12-31\"].rename({'Date':'Date16', 'new_customers':'new_customers16', \"have_scf\":\"have_scf16\", \"disclose_scf\":\"disclose_scf16\"}, axis=1)\n",
    "sum_df17= sum_df[sum_df['Date']==\"2017-12-31\"].rename({'Date':'Date17', 'new_customers':'new_customers17', \"have_scf\":\"have_scf17\", \"disclose_scf\":\"disclose_scf17\"}, axis=1)\n",
    "sum_df18= sum_df[sum_df['Date']==\"2018-12-31\"].rename({'Date':'Date18', 'new_customers':'new_customers18', \"have_scf\":\"have_scf18\", \"disclose_scf\":\"disclose_scf18\"}, axis=1)\n",
    "sum_df19= sum_df[sum_df['Date']==\"2019-12-31\"].rename({'Date':'Date19', 'new_customers':'new_customers19', \"have_scf\":\"have_scf19\", \"disclose_scf\":\"disclose_scf19\"}, axis=1)\n",
    "sum_df20= sum_df[sum_df['Date']==\"2020-12-31\"].rename({'Date':'Date20', 'new_customers':'new_customers20', \"have_scf\":\"have_scf20\", \"disclose_scf\":\"disclose_scf20\"}, axis=1)\n",
    "sum_df21= sum_df[sum_df['Date']==\"2021-12-31\"].rename({'Date':'Date21', 'new_customers':'new_customers21', \"have_scf\":\"have_scf21\", \"disclose_scf\":\"disclose_scf21\"}, axis=1)\n",
    "sum_df22= sum_df[sum_df['Date']==\"2022-12-31\"].rename({'Date':'Date22', 'new_customers':'new_customers22', \"have_scf\":\"have_scf22\", \"disclose_scf\":\"disclose_scf22\"}, axis=1)\n"
   ]
  },
  {
   "cell_type": "markdown",
   "id": "970f92f2-6dad-4adb-a60b-5c7d498df644",
   "metadata": {},
   "source": [
    "# Dataframe for 2017"
   ]
  },
  {
   "cell_type": "code",
   "execution_count": 164,
   "id": "5f9d71e9-a6ce-48ee-9813-47d564a770c8",
   "metadata": {},
   "outputs": [],
   "source": [
    "#Since the thesis wants to analyze the timeframe from 2017-2021 we need to calculate the total number of customers for the first year (2017) \n",
    "#by adding up all the new customers of the years 2010 to 2017. First step: cretae a list of relevant dataframes\n",
    "dfs10_17 = (sum_df10,sum_df11,sum_df12,sum_df13,sum_df14,sum_df15,sum_df16,sum_df17)"
   ]
  },
  {
   "cell_type": "code",
   "execution_count": 165,
   "id": "a2e03e23-6e1b-4307-a9c4-aab1f5d4c804",
   "metadata": {},
   "outputs": [],
   "source": [
    "#merge the dfs for 2010 to 2017\n",
    "#we use an outer merge to not drop any company who is not represented in every year\n",
    "#we fill N/A errors with 0 so the adding up later works without issues\n",
    "sum_df10_17 = reduce(lambda  left,right: pd.merge(left,right,on=['Supplier_Name'],\n",
    "                                            how='outer'), dfs10_17).fillna(0)"
   ]
  },
  {
   "cell_type": "code",
   "execution_count": 235,
   "id": "31452d62-0930-4c64-86eb-36f156ce2c04",
   "metadata": {},
   "outputs": [
    {
     "data": {
      "text/html": [
       "<div>\n",
       "<style scoped>\n",
       "    .dataframe tbody tr th:only-of-type {\n",
       "        vertical-align: middle;\n",
       "    }\n",
       "\n",
       "    .dataframe tbody tr th {\n",
       "        vertical-align: top;\n",
       "    }\n",
       "\n",
       "    .dataframe thead th {\n",
       "        text-align: right;\n",
       "    }\n",
       "</style>\n",
       "<table border=\"1\" class=\"dataframe\">\n",
       "  <thead>\n",
       "    <tr style=\"text-align: right;\">\n",
       "      <th></th>\n",
       "      <th>new_customers10_17</th>\n",
       "      <th>have_scf10_17</th>\n",
       "      <th>disclose_scf10_17</th>\n",
       "      <th>%_have_scf10_17</th>\n",
       "      <th>%_have_undisclosed_scf10_17</th>\n",
       "      <th>Year10_17</th>\n",
       "    </tr>\n",
       "    <tr>\n",
       "      <th>Supplier_Name</th>\n",
       "      <th></th>\n",
       "      <th></th>\n",
       "      <th></th>\n",
       "      <th></th>\n",
       "      <th></th>\n",
       "      <th></th>\n",
       "    </tr>\n",
       "  </thead>\n",
       "  <tbody>\n",
       "    <tr>\n",
       "      <th>AF Group Polska Sp z o o</th>\n",
       "      <td>2.0</td>\n",
       "      <td>1.0</td>\n",
       "      <td>0.0</td>\n",
       "      <td>0.0</td>\n",
       "      <td>0.5</td>\n",
       "      <td>2017</td>\n",
       "    </tr>\n",
       "    <tr>\n",
       "      <th>AGR Drilling Services Pty Ltd</th>\n",
       "      <td>1.0</td>\n",
       "      <td>1.0</td>\n",
       "      <td>0.0</td>\n",
       "      <td>0.0</td>\n",
       "      <td>1.0</td>\n",
       "      <td>2017</td>\n",
       "    </tr>\n",
       "    <tr>\n",
       "      <th>AM Castle &amp; Co</th>\n",
       "      <td>1.0</td>\n",
       "      <td>1.0</td>\n",
       "      <td>0.0</td>\n",
       "      <td>0.0</td>\n",
       "      <td>1.0</td>\n",
       "      <td>2017</td>\n",
       "    </tr>\n",
       "  </tbody>\n",
       "</table>\n",
       "</div>"
      ],
      "text/plain": [
       "                               new_customers10_17  have_scf10_17  \\\n",
       "Supplier_Name                                                      \n",
       "AF Group Polska Sp z o o                      2.0            1.0   \n",
       "AGR Drilling Services Pty Ltd                 1.0            1.0   \n",
       "AM Castle & Co                                1.0            1.0   \n",
       "\n",
       "                               disclose_scf10_17  %_have_scf10_17  \\\n",
       "Supplier_Name                                                       \n",
       "AF Group Polska Sp z o o                     0.0              0.0   \n",
       "AGR Drilling Services Pty Ltd                0.0              0.0   \n",
       "AM Castle & Co                               0.0              0.0   \n",
       "\n",
       "                               %_have_undisclosed_scf10_17  Year10_17  \n",
       "Supplier_Name                                                          \n",
       "AF Group Polska Sp z o o                               0.5       2017  \n",
       "AGR Drilling Services Pty Ltd                          1.0       2017  \n",
       "AM Castle & Co                                         1.0       2017  "
      ]
     },
     "execution_count": 235,
     "metadata": {},
     "output_type": "execute_result"
    }
   ],
   "source": [
    "#inspect the resulting df\n",
    "sum_df10_17.head(3)"
   ]
  },
  {
   "cell_type": "markdown",
   "id": "bfb93dc5-ffc5-47c8-b2fb-46c7a248b859",
   "metadata": {},
   "source": [
    "We have a realistic number of companies so none have been dropped in the merge (outer). We have the company as an index and a set of 4 coulmns for each year.\n",
    "In the next steps we want to add the information per year together and then drop the columns for each individual year"
   ]
  },
  {
   "cell_type": "code",
   "execution_count": 167,
   "id": "2c2f6beb-d24c-4f24-89ef-c5dfcea53bbd",
   "metadata": {},
   "outputs": [],
   "source": [
    "#add up the new customers\n",
    "sum_df10_17['new_customers10_17'] = sum_df10_17['new_customers10'] +sum_df10_17['new_customers11']+sum_df10_17['new_customers12']+sum_df10_17['new_customers13']+sum_df10_17['new_customers14']+sum_df10_17['new_customers15']+sum_df10_17['new_customers16']+sum_df10_17['new_customers17']"
   ]
  },
  {
   "cell_type": "code",
   "execution_count": 168,
   "id": "f6542cb8-8314-4962-8d20-72f6aa424a46",
   "metadata": {},
   "outputs": [],
   "source": [
    "#add up the number of which have a SCF program\n",
    "sum_df10_17['have_scf10_17'] = sum_df10_17['have_scf10'] +sum_df10_17['have_scf11'] +sum_df10_17['have_scf12'] +sum_df10_17['have_scf13'] +sum_df10_17['have_scf14'] +sum_df10_17['have_scf15'] +sum_df10_17['have_scf16'] +sum_df10_17['have_scf17'] "
   ]
  },
  {
   "cell_type": "code",
   "execution_count": 169,
   "id": "7a85933b-85b5-4fb2-bd42-8fe91def88c5",
   "metadata": {},
   "outputs": [],
   "source": [
    "#add up the number of which disclose the SCF program\n",
    "sum_df10_17['disclose_scf10_17'] = sum_df10_17['disclose_scf10'] +sum_df10_17['disclose_scf11']+sum_df10_17['disclose_scf12']+sum_df10_17['disclose_scf13']+sum_df10_17['disclose_scf14']+sum_df10_17['disclose_scf15']+sum_df10_17['disclose_scf16']+sum_df10_17['disclose_scf17']"
   ]
  },
  {
   "cell_type": "code",
   "execution_count": 170,
   "id": "83a0078a-3e24-49bc-ade7-4af27aa6cd38",
   "metadata": {},
   "outputs": [],
   "source": [
    "#export the rusulting df to excel to conduct a proper chech whether the adding up worked as intended - no problems\n",
    "#sum_df10_17.to_excel(r\"C:\\Users\\Simon\\Downloads\\sumdf1017.xlsx\")"
   ]
  },
  {
   "cell_type": "code",
   "execution_count": 171,
   "id": "ae33b59e-fa0b-4c0d-be4a-5661ebcde474",
   "metadata": {},
   "outputs": [],
   "source": [
    "#drop new customer column\n",
    "sum_df10_17.drop(['new_customers10',\n",
    "                 'new_customers11',\n",
    "                 'new_customers12',\n",
    "                 'new_customers13',\n",
    "                 'new_customers14',\n",
    "                 'new_customers15',\n",
    "                 'new_customers16',\n",
    "                 'new_customers17'],\n",
    "                 axis=1, inplace=True)"
   ]
  },
  {
   "cell_type": "code",
   "execution_count": 172,
   "id": "4c863076-cd97-4e86-b1d6-407a04927409",
   "metadata": {},
   "outputs": [],
   "source": [
    "#drop Date column\n",
    "sum_df10_17.drop(['Date10',\n",
    "                 'Date11',\n",
    "                 'Date12',\n",
    "                 'Date13',\n",
    "                 'Date14',\n",
    "                 'Date15',\n",
    "                 'Date16',\n",
    "                 'Date17'],\n",
    "                 axis=1, inplace=True)"
   ]
  },
  {
   "cell_type": "code",
   "execution_count": 173,
   "id": "4e142792-7038-4729-83ff-8067a64f6453",
   "metadata": {},
   "outputs": [],
   "source": [
    "#Drop have scf column\n",
    "sum_df10_17.drop(['have_scf10',\n",
    "                 'have_scf11',\n",
    "                 'have_scf12',\n",
    "                 'have_scf13',\n",
    "                 'have_scf14',\n",
    "                 'have_scf15',\n",
    "                 'have_scf16',\n",
    "                 'have_scf17'],\n",
    "                 axis=1, inplace=True)"
   ]
  },
  {
   "cell_type": "code",
   "execution_count": 174,
   "id": "984f3aed-86d3-46d7-8f94-04567993f331",
   "metadata": {},
   "outputs": [],
   "source": [
    "#drop disclosure column\n",
    "sum_df10_17.drop(['disclose_scf10',\n",
    "                 'disclose_scf11',\n",
    "                 'disclose_scf12',\n",
    "                 'disclose_scf13',\n",
    "                 'disclose_scf14',\n",
    "                 'disclose_scf15',\n",
    "                 'disclose_scf16',\n",
    "                 'disclose_scf17'],\n",
    "                 axis=1, inplace=True)"
   ]
  },
  {
   "cell_type": "code",
   "execution_count": 175,
   "id": "e8452b87-5426-431b-838d-5c8073c8aa87",
   "metadata": {},
   "outputs": [],
   "source": [
    "#sum_df10_17.to_excel(r\"C:\\Users\\Simon\\Downloads\\sumdf1017_1.xlsx\")"
   ]
  },
  {
   "cell_type": "code",
   "execution_count": 176,
   "id": "985118c7-8e03-4058-9110-bbe5472dd9e4",
   "metadata": {},
   "outputs": [],
   "source": [
    "#calculate the percentages of how many of the supliers customers have an SCF program and how many do not disclose it\n",
    "sum_df10_17['%_have_scf10_17'] = sum_df10_17['disclose_scf10_17']/sum_df10_17['new_customers10_17']\n",
    "sum_df10_17['%_have_undisclosed_scf10_17'] = (sum_df10_17['have_scf10_17']-sum_df10_17['disclose_scf10_17'])/sum_df10_17['new_customers10_17']"
   ]
  },
  {
   "cell_type": "code",
   "execution_count": 177,
   "id": "98e7095d-fecb-4fdb-9506-b1d9048f728b",
   "metadata": {},
   "outputs": [],
   "source": [
    "#add a year marker\n",
    "sum_df10_17['Year10_17'] = 2017"
   ]
  },
  {
   "cell_type": "code",
   "execution_count": 236,
   "id": "10c7db58-81a1-43aa-8bf5-11aedc998032",
   "metadata": {},
   "outputs": [
    {
     "data": {
      "text/html": [
       "<div>\n",
       "<style scoped>\n",
       "    .dataframe tbody tr th:only-of-type {\n",
       "        vertical-align: middle;\n",
       "    }\n",
       "\n",
       "    .dataframe tbody tr th {\n",
       "        vertical-align: top;\n",
       "    }\n",
       "\n",
       "    .dataframe thead th {\n",
       "        text-align: right;\n",
       "    }\n",
       "</style>\n",
       "<table border=\"1\" class=\"dataframe\">\n",
       "  <thead>\n",
       "    <tr style=\"text-align: right;\">\n",
       "      <th></th>\n",
       "      <th>new_customers10_17</th>\n",
       "      <th>have_scf10_17</th>\n",
       "      <th>disclose_scf10_17</th>\n",
       "      <th>%_have_scf10_17</th>\n",
       "      <th>%_have_undisclosed_scf10_17</th>\n",
       "      <th>Year10_17</th>\n",
       "    </tr>\n",
       "    <tr>\n",
       "      <th>Supplier_Name</th>\n",
       "      <th></th>\n",
       "      <th></th>\n",
       "      <th></th>\n",
       "      <th></th>\n",
       "      <th></th>\n",
       "      <th></th>\n",
       "    </tr>\n",
       "  </thead>\n",
       "  <tbody>\n",
       "    <tr>\n",
       "      <th>AF Group Polska Sp z o o</th>\n",
       "      <td>2.0</td>\n",
       "      <td>1.0</td>\n",
       "      <td>0.0</td>\n",
       "      <td>0.0</td>\n",
       "      <td>0.5</td>\n",
       "      <td>2017</td>\n",
       "    </tr>\n",
       "    <tr>\n",
       "      <th>AGR Drilling Services Pty Ltd</th>\n",
       "      <td>1.0</td>\n",
       "      <td>1.0</td>\n",
       "      <td>0.0</td>\n",
       "      <td>0.0</td>\n",
       "      <td>1.0</td>\n",
       "      <td>2017</td>\n",
       "    </tr>\n",
       "    <tr>\n",
       "      <th>AM Castle &amp; Co</th>\n",
       "      <td>1.0</td>\n",
       "      <td>1.0</td>\n",
       "      <td>0.0</td>\n",
       "      <td>0.0</td>\n",
       "      <td>1.0</td>\n",
       "      <td>2017</td>\n",
       "    </tr>\n",
       "  </tbody>\n",
       "</table>\n",
       "</div>"
      ],
      "text/plain": [
       "                               new_customers10_17  have_scf10_17  \\\n",
       "Supplier_Name                                                      \n",
       "AF Group Polska Sp z o o                      2.0            1.0   \n",
       "AGR Drilling Services Pty Ltd                 1.0            1.0   \n",
       "AM Castle & Co                                1.0            1.0   \n",
       "\n",
       "                               disclose_scf10_17  %_have_scf10_17  \\\n",
       "Supplier_Name                                                       \n",
       "AF Group Polska Sp z o o                     0.0              0.0   \n",
       "AGR Drilling Services Pty Ltd                0.0              0.0   \n",
       "AM Castle & Co                               0.0              0.0   \n",
       "\n",
       "                               %_have_undisclosed_scf10_17  Year10_17  \n",
       "Supplier_Name                                                          \n",
       "AF Group Polska Sp z o o                               0.5       2017  \n",
       "AGR Drilling Services Pty Ltd                          1.0       2017  \n",
       "AM Castle & Co                                         1.0       2017  "
      ]
     },
     "execution_count": 236,
     "metadata": {},
     "output_type": "execute_result"
    }
   ],
   "source": [
    "sum_df10_17.head(3)"
   ]
  },
  {
   "cell_type": "markdown",
   "id": "69ae9edd-af28-47a0-8e48-b5a7e61b94c5",
   "metadata": {},
   "source": [
    "# Dataframe for 2018"
   ]
  },
  {
   "cell_type": "code",
   "execution_count": 179,
   "id": "8cbf651a-5cf4-4c8f-864c-96c4e9b32aca",
   "metadata": {},
   "outputs": [],
   "source": [
    "#merge the two df relevant for this date range\n",
    "sum_df17_18=sum_df10_17.merge( sum_df18, right_index=True, left_index=True, how='outer').fillna(0)"
   ]
  },
  {
   "cell_type": "code",
   "execution_count": 180,
   "id": "6bc6e422-294c-48be-9166-180a57ef5b0e",
   "metadata": {},
   "outputs": [],
   "source": [
    "#add up the values\n",
    "sum_df17_18['new_customers17_18'] = sum_df17_18['new_customers10_17'] +sum_df17_18['new_customers18']\n",
    "sum_df17_18['have_scf17_18'] = sum_df17_18['have_scf10_17'] +sum_df17_18['have_scf18'] \n",
    "sum_df17_18['disclose_scf17_18'] = sum_df17_18['disclose_scf10_17'] +sum_df17_18['disclose_scf18'] "
   ]
  },
  {
   "cell_type": "code",
   "execution_count": 181,
   "id": "56346edc-1016-4fb9-afb0-54555575ce4e",
   "metadata": {},
   "outputs": [],
   "source": [
    "#calculate the percentages of how many of the supliers customers have an SCF program and how many do not disclose it\n",
    "sum_df17_18['%_have_scf17_18'] = sum_df17_18['disclose_scf17_18']/sum_df17_18['new_customers17_18']\n",
    "sum_df17_18['%_have_undisclosed_scf17_18'] = (sum_df17_18['have_scf17_18']-sum_df17_18['disclose_scf17_18'])/sum_df17_18['new_customers17_18']"
   ]
  },
  {
   "cell_type": "code",
   "execution_count": 182,
   "id": "2cd25352-a3bb-47a8-9313-c34e4703e3e8",
   "metadata": {},
   "outputs": [],
   "source": [
    "#add a year marker\n",
    "sum_df17_18['Year17_18'] = 2018"
   ]
  },
  {
   "cell_type": "code",
   "execution_count": 183,
   "id": "0df6f622-03fe-4dde-a84c-a9271e73fb67",
   "metadata": {},
   "outputs": [],
   "source": [
    "#drop columns not needed anymore\n",
    "sum_df17_18.drop(['new_customers10_17','Year10_17', 'have_scf10_17', 'disclose_scf10_17', 'Date18', 'new_customers18', 'have_scf18', 'disclose_scf18', '%_have_scf10_17', '%_have_undisclosed_scf10_17'], axis=1, inplace=True)"
   ]
  },
  {
   "cell_type": "code",
   "execution_count": 184,
   "id": "5e0f1f05-e815-4405-82f3-eb6af6a98498",
   "metadata": {},
   "outputs": [],
   "source": [
    "#sum_df17_18.to_excel(r\"C:\\Users\\Simon\\Downloads\\sumdf17_18.xlsx\")"
   ]
  },
  {
   "cell_type": "markdown",
   "id": "246420fb-528b-4754-a079-3814a66ab7ef",
   "metadata": {},
   "source": [
    "# Dataframe for 2019"
   ]
  },
  {
   "cell_type": "code",
   "execution_count": 185,
   "id": "97d9951e-cab9-42c6-9f4e-58be898920f7",
   "metadata": {},
   "outputs": [],
   "source": [
    "#merge the two df relevant for this date range\n",
    "sum_df18_19=sum_df17_18.merge(sum_df19, right_index=True, left_index=True, how='outer').fillna(0)"
   ]
  },
  {
   "cell_type": "code",
   "execution_count": 186,
   "id": "bed11c0a-8a8e-466a-9ccd-ae907fbcf533",
   "metadata": {},
   "outputs": [],
   "source": [
    "#add up the values\n",
    "sum_df18_19['new_customers18_19'] = sum_df18_19['new_customers17_18'] +sum_df18_19['new_customers19']\n",
    "sum_df18_19['have_scf18_19'] = sum_df18_19['have_scf17_18'] +sum_df18_19['have_scf19'] \n",
    "sum_df18_19['disclose_scf18_19'] = sum_df18_19['disclose_scf17_18'] +sum_df18_19['disclose_scf19'] "
   ]
  },
  {
   "cell_type": "code",
   "execution_count": 187,
   "id": "03126d88-1306-4f78-be5d-4efc7bf6f934",
   "metadata": {},
   "outputs": [],
   "source": [
    "#calculate the percentages of how many of the supliers customers have an SCF program and how many do not disclose it\n",
    "sum_df18_19['%_have_scf18_19'] = sum_df18_19['disclose_scf18_19']/sum_df18_19['new_customers18_19']\n",
    "sum_df18_19['%_have_undisclosed_scf18_19'] = (sum_df18_19['have_scf18_19']-sum_df18_19['disclose_scf18_19'])/sum_df18_19['new_customers18_19']"
   ]
  },
  {
   "cell_type": "code",
   "execution_count": 188,
   "id": "d841f939-ea6c-4fbb-84ac-d71d4a0b3b6a",
   "metadata": {},
   "outputs": [],
   "source": [
    "#add a year marker\n",
    "sum_df18_19['Year18_19'] = 2019"
   ]
  },
  {
   "cell_type": "code",
   "execution_count": 189,
   "id": "9b12623d-5de6-4168-8963-e26f6fed54ed",
   "metadata": {},
   "outputs": [],
   "source": [
    "#drop columns not needed anymore\n",
    "sum_df18_19.drop(['new_customers17_18','Year17_18', 'have_scf17_18', 'disclose_scf17_18', 'Date19', 'new_customers19', 'have_scf19', 'disclose_scf19', '%_have_scf17_18', '%_have_undisclosed_scf17_18'], axis=1, inplace=True)"
   ]
  },
  {
   "cell_type": "code",
   "execution_count": 237,
   "id": "aac40f75-9b4b-47ba-9691-e315d7d66b7d",
   "metadata": {},
   "outputs": [
    {
     "data": {
      "text/html": [
       "<div>\n",
       "<style scoped>\n",
       "    .dataframe tbody tr th:only-of-type {\n",
       "        vertical-align: middle;\n",
       "    }\n",
       "\n",
       "    .dataframe tbody tr th {\n",
       "        vertical-align: top;\n",
       "    }\n",
       "\n",
       "    .dataframe thead th {\n",
       "        text-align: right;\n",
       "    }\n",
       "</style>\n",
       "<table border=\"1\" class=\"dataframe\">\n",
       "  <thead>\n",
       "    <tr style=\"text-align: right;\">\n",
       "      <th></th>\n",
       "      <th>new_customers18_19</th>\n",
       "      <th>have_scf18_19</th>\n",
       "      <th>disclose_scf18_19</th>\n",
       "      <th>%_have_scf18_19</th>\n",
       "      <th>%_have_undisclosed_scf18_19</th>\n",
       "      <th>Year18_19</th>\n",
       "    </tr>\n",
       "    <tr>\n",
       "      <th>Supplier_Name</th>\n",
       "      <th></th>\n",
       "      <th></th>\n",
       "      <th></th>\n",
       "      <th></th>\n",
       "      <th></th>\n",
       "      <th></th>\n",
       "    </tr>\n",
       "  </thead>\n",
       "  <tbody>\n",
       "    <tr>\n",
       "      <th>2242749 Ontario Ltd</th>\n",
       "      <td>1.0</td>\n",
       "      <td>1.0</td>\n",
       "      <td>0.0</td>\n",
       "      <td>0.0</td>\n",
       "      <td>1.0</td>\n",
       "      <td>2019</td>\n",
       "    </tr>\n",
       "    <tr>\n",
       "      <th>23andMe Inc</th>\n",
       "      <td>1.0</td>\n",
       "      <td>1.0</td>\n",
       "      <td>0.0</td>\n",
       "      <td>0.0</td>\n",
       "      <td>1.0</td>\n",
       "      <td>2019</td>\n",
       "    </tr>\n",
       "    <tr>\n",
       "      <th>2Crsi SA</th>\n",
       "      <td>1.0</td>\n",
       "      <td>1.0</td>\n",
       "      <td>0.0</td>\n",
       "      <td>0.0</td>\n",
       "      <td>1.0</td>\n",
       "      <td>2019</td>\n",
       "    </tr>\n",
       "  </tbody>\n",
       "</table>\n",
       "</div>"
      ],
      "text/plain": [
       "                     new_customers18_19  have_scf18_19  disclose_scf18_19  \\\n",
       "Supplier_Name                                                               \n",
       "2242749 Ontario Ltd                 1.0            1.0                0.0   \n",
       "23andMe Inc                         1.0            1.0                0.0   \n",
       "2Crsi SA                            1.0            1.0                0.0   \n",
       "\n",
       "                     %_have_scf18_19  %_have_undisclosed_scf18_19  Year18_19  \n",
       "Supplier_Name                                                                 \n",
       "2242749 Ontario Ltd              0.0                          1.0       2019  \n",
       "23andMe Inc                      0.0                          1.0       2019  \n",
       "2Crsi SA                         0.0                          1.0       2019  "
      ]
     },
     "execution_count": 237,
     "metadata": {},
     "output_type": "execute_result"
    }
   ],
   "source": [
    "sum_df18_19.head(3)"
   ]
  },
  {
   "cell_type": "markdown",
   "id": "bbbf1276-f3ba-4160-baab-8124ca739035",
   "metadata": {},
   "source": [
    "# Dataframe for 2020"
   ]
  },
  {
   "cell_type": "code",
   "execution_count": 191,
   "id": "ca62cb96-243b-40ed-822e-69a3c0b7b70f",
   "metadata": {},
   "outputs": [],
   "source": [
    "#merge the two df relevant for this date range\n",
    "sum_df19_20=pd.merge(sum_df18_19, sum_df20, right_index=True, left_index=True, how='outer').fillna(0)"
   ]
  },
  {
   "cell_type": "code",
   "execution_count": 192,
   "id": "adb1d6e2-4837-47a5-a764-f75994efc0f6",
   "metadata": {},
   "outputs": [],
   "source": [
    "#add up the values\n",
    "sum_df19_20['new_customers19_20'] = sum_df19_20['new_customers18_19'] +sum_df19_20['new_customers20']\n",
    "sum_df19_20['have_scf19_20'] = sum_df19_20['have_scf18_19'] +sum_df19_20['have_scf20'] \n",
    "sum_df19_20['disclose_scf19_20'] = sum_df19_20['disclose_scf18_19'] +sum_df19_20['disclose_scf20'] "
   ]
  },
  {
   "cell_type": "code",
   "execution_count": 193,
   "id": "989d7685-f786-4361-8d8b-f79eed13bcd4",
   "metadata": {},
   "outputs": [],
   "source": [
    "#calculate the percentages of how many of the supliers customers have an SCF program and how many do not disclose it\n",
    "sum_df19_20['%_have_scf19_20'] = sum_df19_20['disclose_scf19_20']/sum_df19_20['new_customers19_20']\n",
    "sum_df19_20['%_have_undisclosed_scf19_20'] = (sum_df19_20['have_scf19_20']-sum_df19_20['disclose_scf19_20'])/sum_df19_20['new_customers19_20']"
   ]
  },
  {
   "cell_type": "code",
   "execution_count": 194,
   "id": "13bd1246-71b2-457e-bab1-fa297e622a0d",
   "metadata": {},
   "outputs": [],
   "source": [
    "#add a year marker\n",
    "sum_df19_20['Year19_20'] = 2020"
   ]
  },
  {
   "cell_type": "code",
   "execution_count": 195,
   "id": "bef32bb7-e293-4aef-bb69-a42e9a5838db",
   "metadata": {},
   "outputs": [],
   "source": [
    "#drop columns not needed anymore\n",
    "sum_df19_20.drop(['new_customers18_19', 'Year18_19','have_scf18_19', 'disclose_scf18_19', 'Date20', 'new_customers20', 'have_scf20', 'disclose_scf20','%_have_scf18_19', '%_have_undisclosed_scf18_19'], axis=1, inplace=True)"
   ]
  },
  {
   "cell_type": "code",
   "execution_count": 238,
   "id": "5118a8d3-4be3-4a2c-8239-f2b4bab4d512",
   "metadata": {},
   "outputs": [
    {
     "data": {
      "text/html": [
       "<div>\n",
       "<style scoped>\n",
       "    .dataframe tbody tr th:only-of-type {\n",
       "        vertical-align: middle;\n",
       "    }\n",
       "\n",
       "    .dataframe tbody tr th {\n",
       "        vertical-align: top;\n",
       "    }\n",
       "\n",
       "    .dataframe thead th {\n",
       "        text-align: right;\n",
       "    }\n",
       "</style>\n",
       "<table border=\"1\" class=\"dataframe\">\n",
       "  <thead>\n",
       "    <tr style=\"text-align: right;\">\n",
       "      <th></th>\n",
       "      <th>new_customers19_20</th>\n",
       "      <th>have_scf19_20</th>\n",
       "      <th>disclose_scf19_20</th>\n",
       "      <th>%_have_scf19_20</th>\n",
       "      <th>%_have_undisclosed_scf19_20</th>\n",
       "      <th>Year19_20</th>\n",
       "    </tr>\n",
       "    <tr>\n",
       "      <th>Supplier_Name</th>\n",
       "      <th></th>\n",
       "      <th></th>\n",
       "      <th></th>\n",
       "      <th></th>\n",
       "      <th></th>\n",
       "      <th></th>\n",
       "    </tr>\n",
       "  </thead>\n",
       "  <tbody>\n",
       "    <tr>\n",
       "      <th>2242749 Ontario Ltd</th>\n",
       "      <td>1.0</td>\n",
       "      <td>1.0</td>\n",
       "      <td>0.0</td>\n",
       "      <td>0.0</td>\n",
       "      <td>1.0</td>\n",
       "      <td>2020</td>\n",
       "    </tr>\n",
       "    <tr>\n",
       "      <th>23andMe Inc</th>\n",
       "      <td>1.0</td>\n",
       "      <td>1.0</td>\n",
       "      <td>0.0</td>\n",
       "      <td>0.0</td>\n",
       "      <td>1.0</td>\n",
       "      <td>2020</td>\n",
       "    </tr>\n",
       "    <tr>\n",
       "      <th>2Crsi SA</th>\n",
       "      <td>2.0</td>\n",
       "      <td>1.0</td>\n",
       "      <td>0.0</td>\n",
       "      <td>0.0</td>\n",
       "      <td>0.5</td>\n",
       "      <td>2020</td>\n",
       "    </tr>\n",
       "  </tbody>\n",
       "</table>\n",
       "</div>"
      ],
      "text/plain": [
       "                     new_customers19_20  have_scf19_20  disclose_scf19_20  \\\n",
       "Supplier_Name                                                               \n",
       "2242749 Ontario Ltd                 1.0            1.0                0.0   \n",
       "23andMe Inc                         1.0            1.0                0.0   \n",
       "2Crsi SA                            2.0            1.0                0.0   \n",
       "\n",
       "                     %_have_scf19_20  %_have_undisclosed_scf19_20  Year19_20  \n",
       "Supplier_Name                                                                 \n",
       "2242749 Ontario Ltd              0.0                          1.0       2020  \n",
       "23andMe Inc                      0.0                          1.0       2020  \n",
       "2Crsi SA                         0.0                          0.5       2020  "
      ]
     },
     "execution_count": 238,
     "metadata": {},
     "output_type": "execute_result"
    }
   ],
   "source": [
    "sum_df19_20.head(3)"
   ]
  },
  {
   "cell_type": "markdown",
   "id": "7eb05a2b-3b6d-426d-9e6a-7624bce593b1",
   "metadata": {},
   "source": [
    "# Dataframe for 2021"
   ]
  },
  {
   "cell_type": "code",
   "execution_count": 197,
   "id": "9a0012a2-c967-4d8b-959d-f1548fd39ef8",
   "metadata": {},
   "outputs": [],
   "source": [
    "#merge the two df relevant for this date range\n",
    "sum_df20_21=pd.merge(sum_df19_20, sum_df21, right_index=True, left_index=True, how='outer').fillna(0)"
   ]
  },
  {
   "cell_type": "code",
   "execution_count": 198,
   "id": "ab06a110-019d-4a8a-80d4-d98c216e50d9",
   "metadata": {},
   "outputs": [],
   "source": [
    "#add up the values\n",
    "sum_df20_21['new_customers20_21'] = sum_df20_21['new_customers19_20'] +sum_df20_21['new_customers21']\n",
    "sum_df20_21['have_scf20_21'] = sum_df20_21['have_scf19_20'] +sum_df20_21['have_scf21'] \n",
    "sum_df20_21['disclose_scf20_21'] = sum_df20_21['disclose_scf19_20'] +sum_df20_21['disclose_scf21'] "
   ]
  },
  {
   "cell_type": "code",
   "execution_count": 199,
   "id": "87207191-151e-4f7d-8e03-a916004f18e3",
   "metadata": {},
   "outputs": [],
   "source": [
    "#calculate the percentages of how many of the supliers customers have an SCF program and how many do not disclose it\n",
    "sum_df20_21['%_have_scf20_21'] = sum_df20_21['disclose_scf20_21']/sum_df20_21['new_customers20_21']\n",
    "sum_df20_21['%_have_undisclosed_scf20_21'] = (sum_df20_21['have_scf20_21']-sum_df20_21['disclose_scf20_21'])/sum_df20_21['new_customers20_21']"
   ]
  },
  {
   "cell_type": "code",
   "execution_count": 200,
   "id": "c5d2463d-3e66-4c50-8571-d6ae09843234",
   "metadata": {},
   "outputs": [],
   "source": [
    "#add a year marker\n",
    "sum_df20_21['Year20_21'] = 2021"
   ]
  },
  {
   "cell_type": "code",
   "execution_count": 201,
   "id": "717b190d-be4f-4b0e-9273-e31e42203991",
   "metadata": {},
   "outputs": [],
   "source": [
    "#drop columns not needed anymore\n",
    "sum_df20_21.drop(['new_customers19_20', 'Year19_20','have_scf19_20', 'disclose_scf19_20', 'Date21', 'new_customers21', 'have_scf21', 'disclose_scf21','%_have_scf19_20', '%_have_undisclosed_scf19_20'], axis=1, inplace=True)"
   ]
  },
  {
   "cell_type": "code",
   "execution_count": 239,
   "id": "31513818-24f8-4cbf-833c-12a19c55aa70",
   "metadata": {},
   "outputs": [
    {
     "data": {
      "text/html": [
       "<div>\n",
       "<style scoped>\n",
       "    .dataframe tbody tr th:only-of-type {\n",
       "        vertical-align: middle;\n",
       "    }\n",
       "\n",
       "    .dataframe tbody tr th {\n",
       "        vertical-align: top;\n",
       "    }\n",
       "\n",
       "    .dataframe thead th {\n",
       "        text-align: right;\n",
       "    }\n",
       "</style>\n",
       "<table border=\"1\" class=\"dataframe\">\n",
       "  <thead>\n",
       "    <tr style=\"text-align: right;\">\n",
       "      <th></th>\n",
       "      <th>new_customers20_21</th>\n",
       "      <th>have_scf20_21</th>\n",
       "      <th>disclose_scf20_21</th>\n",
       "      <th>%_have_scf20_21</th>\n",
       "      <th>%_have_undisclosed_scf20_21</th>\n",
       "      <th>Year20_21</th>\n",
       "    </tr>\n",
       "    <tr>\n",
       "      <th>Supplier_Name</th>\n",
       "      <th></th>\n",
       "      <th></th>\n",
       "      <th></th>\n",
       "      <th></th>\n",
       "      <th></th>\n",
       "      <th></th>\n",
       "    </tr>\n",
       "  </thead>\n",
       "  <tbody>\n",
       "    <tr>\n",
       "      <th>2242749 Ontario Ltd</th>\n",
       "      <td>1.0</td>\n",
       "      <td>1.0</td>\n",
       "      <td>0.0</td>\n",
       "      <td>0.0</td>\n",
       "      <td>1.00</td>\n",
       "      <td>2021</td>\n",
       "    </tr>\n",
       "    <tr>\n",
       "      <th>23andMe Inc</th>\n",
       "      <td>1.0</td>\n",
       "      <td>1.0</td>\n",
       "      <td>0.0</td>\n",
       "      <td>0.0</td>\n",
       "      <td>1.00</td>\n",
       "      <td>2021</td>\n",
       "    </tr>\n",
       "    <tr>\n",
       "      <th>2Crsi SA</th>\n",
       "      <td>4.0</td>\n",
       "      <td>1.0</td>\n",
       "      <td>0.0</td>\n",
       "      <td>0.0</td>\n",
       "      <td>0.25</td>\n",
       "      <td>2021</td>\n",
       "    </tr>\n",
       "  </tbody>\n",
       "</table>\n",
       "</div>"
      ],
      "text/plain": [
       "                     new_customers20_21  have_scf20_21  disclose_scf20_21  \\\n",
       "Supplier_Name                                                               \n",
       "2242749 Ontario Ltd                 1.0            1.0                0.0   \n",
       "23andMe Inc                         1.0            1.0                0.0   \n",
       "2Crsi SA                            4.0            1.0                0.0   \n",
       "\n",
       "                     %_have_scf20_21  %_have_undisclosed_scf20_21  Year20_21  \n",
       "Supplier_Name                                                                 \n",
       "2242749 Ontario Ltd              0.0                         1.00       2021  \n",
       "23andMe Inc                      0.0                         1.00       2021  \n",
       "2Crsi SA                         0.0                         0.25       2021  "
      ]
     },
     "execution_count": 239,
     "metadata": {},
     "output_type": "execute_result"
    }
   ],
   "source": [
    "sum_df20_21.head(3)"
   ]
  },
  {
   "cell_type": "markdown",
   "id": "dab3c06c-d4d2-4263-ab7b-47d3996e0ee7",
   "metadata": {},
   "source": [
    "Since this study only looks at 2017-2021 the new customers in 2022 are disregarded as all customers until 31-12-2021 have benn covered"
   ]
  },
  {
   "cell_type": "markdown",
   "id": "e4f7fef7-0e34-4f3e-8caf-1d561d8763fc",
   "metadata": {},
   "source": [
    "# Assemble Results"
   ]
  },
  {
   "cell_type": "markdown",
   "id": "bf216eea-fdff-4464-8d91-4e8352e5fa01",
   "metadata": {},
   "source": [
    "The individual df should be appended below each other and sorted so that each row depicts one company for one year."
   ]
  },
  {
   "cell_type": "code",
   "execution_count": 203,
   "id": "b9a3263e-e363-4d92-8425-d9937e8c9b99",
   "metadata": {},
   "outputs": [],
   "source": [
    "#Change back to uniform names to append the dataframes\n",
    "df17= sum_df10_17.rename({'new_customers10_17':'new_customers', 'have_scf10_17':'have_scf','disclose_scf10_17':'disclose_scf','%_have_scf10_17':'%_have_scf','%_have_undisclosed_scf10_17':'%_have_undisclosed_scf','Year10_17':'Year'}, axis=1).reset_index(level=0)\n",
    "df18= sum_df17_18.rename({'new_customers17_18':'new_customers', 'have_scf17_18':'have_scf','disclose_scf17_18':'disclose_scf','%_have_scf17_18':'%_have_scf','%_have_undisclosed_scf17_18':'%_have_undisclosed_scf','Year17_18':'Year'}, axis=1).reset_index(level=0)\n",
    "df19= sum_df18_19.rename({'new_customers18_19':'new_customers', 'have_scf18_19':'have_scf','disclose_scf18_19':'disclose_scf','%_have_scf18_19':'%_have_scf','%_have_undisclosed_scf18_19':'%_have_undisclosed_scf','Year18_19':'Year'}, axis=1).reset_index(level=0)\n",
    "df20= sum_df19_20.rename({'new_customers19_20':'new_customers', 'have_scf19_20':'have_scf','disclose_scf19_20':'disclose_scf','%_have_scf19_20':'%_have_scf','%_have_undisclosed_scf19_20':'%_have_undisclosed_scf','Year19_20':'Year'}, axis=1).reset_index(level=0)\n",
    "df21= sum_df20_21.rename({'new_customers20_21':'new_customers', 'have_scf20_21':'have_scf','disclose_scf20_21':'disclose_scf','%_have_scf20_21':'%_have_scf','%_have_undisclosed_scf20_21':'%_have_undisclosed_scf','Year20_21':'Year'}, axis=1).reset_index(level=0)"
   ]
  },
  {
   "cell_type": "code",
   "execution_count": 204,
   "id": "b67f985a-dbd8-4835-bfee-c384e5a9ef43",
   "metadata": {},
   "outputs": [],
   "source": [
    "#define relevant dfs\n",
    "frames=(df17,df18,df19,df20,df21)"
   ]
  },
  {
   "cell_type": "code",
   "execution_count": 205,
   "id": "97c7c4d8-fb20-4eab-9174-094eb2beae4e",
   "metadata": {},
   "outputs": [],
   "source": [
    "#append frames to each other\n",
    "df_result = pd.concat(frames, ignore_index=True).sort_values(by=['Supplier_Name', 'Year'])"
   ]
  },
  {
   "cell_type": "code",
   "execution_count": 206,
   "id": "db98dbe4-219d-4fa8-92a3-8d7880854f68",
   "metadata": {},
   "outputs": [],
   "source": [
    "#inspect result\n",
    "#df_result.to_excel(r\"C:\\Users\\Simon\\Downloads\\df_result.xlsx\")\n"
   ]
  },
  {
   "cell_type": "code",
   "execution_count": 240,
   "id": "6f89819b-5f0f-49e1-9df1-6c63141a3620",
   "metadata": {},
   "outputs": [
    {
     "data": {
      "text/html": [
       "<div>\n",
       "<style scoped>\n",
       "    .dataframe tbody tr th:only-of-type {\n",
       "        vertical-align: middle;\n",
       "    }\n",
       "\n",
       "    .dataframe tbody tr th {\n",
       "        vertical-align: top;\n",
       "    }\n",
       "\n",
       "    .dataframe thead th {\n",
       "        text-align: right;\n",
       "    }\n",
       "</style>\n",
       "<table border=\"1\" class=\"dataframe\">\n",
       "  <thead>\n",
       "    <tr style=\"text-align: right;\">\n",
       "      <th></th>\n",
       "      <th>Supplier_Name</th>\n",
       "      <th>new_customers</th>\n",
       "      <th>have_scf</th>\n",
       "      <th>disclose_scf</th>\n",
       "      <th>%_have_scf</th>\n",
       "      <th>%_have_undisclosed_scf</th>\n",
       "      <th>Year</th>\n",
       "    </tr>\n",
       "  </thead>\n",
       "  <tbody>\n",
       "    <tr>\n",
       "      <th>289</th>\n",
       "      <td>2242749 Ontario Ltd</td>\n",
       "      <td>1.0</td>\n",
       "      <td>1.0</td>\n",
       "      <td>0.0</td>\n",
       "      <td>0.0</td>\n",
       "      <td>1.0</td>\n",
       "      <td>2017</td>\n",
       "    </tr>\n",
       "    <tr>\n",
       "      <th>3609</th>\n",
       "      <td>2242749 Ontario Ltd</td>\n",
       "      <td>1.0</td>\n",
       "      <td>1.0</td>\n",
       "      <td>0.0</td>\n",
       "      <td>0.0</td>\n",
       "      <td>1.0</td>\n",
       "      <td>2018</td>\n",
       "    </tr>\n",
       "    <tr>\n",
       "      <th>7806</th>\n",
       "      <td>2242749 Ontario Ltd</td>\n",
       "      <td>1.0</td>\n",
       "      <td>1.0</td>\n",
       "      <td>0.0</td>\n",
       "      <td>0.0</td>\n",
       "      <td>1.0</td>\n",
       "      <td>2019</td>\n",
       "    </tr>\n",
       "  </tbody>\n",
       "</table>\n",
       "</div>"
      ],
      "text/plain": [
       "            Supplier_Name  new_customers  have_scf  disclose_scf  %_have_scf  \\\n",
       "289   2242749 Ontario Ltd            1.0       1.0           0.0         0.0   \n",
       "3609  2242749 Ontario Ltd            1.0       1.0           0.0         0.0   \n",
       "7806  2242749 Ontario Ltd            1.0       1.0           0.0         0.0   \n",
       "\n",
       "      %_have_undisclosed_scf  Year  \n",
       "289                      1.0  2017  \n",
       "3609                     1.0  2018  \n",
       "7806                     1.0  2019  "
      ]
     },
     "execution_count": 240,
     "metadata": {},
     "output_type": "execute_result"
    }
   ],
   "source": [
    "df_result.head(3)"
   ]
  },
  {
   "cell_type": "code",
   "execution_count": 208,
   "id": "107ff975-a1da-479d-92dc-4e2ecdbd1034",
   "metadata": {},
   "outputs": [],
   "source": [
    "df_supplier_list = df_result.drop(['new_customers', 'have_scf', 'disclose_scf', '%_have_scf', '%_have_undisclosed_scf'], axis=1, inplace=False)"
   ]
  },
  {
   "cell_type": "code",
   "execution_count": null,
   "id": "24829524-b5e1-4183-afdf-284e3926eff9",
   "metadata": {},
   "outputs": [],
   "source": []
  },
  {
   "cell_type": "markdown",
   "id": "6203a395-568d-464f-9257-c4354e21a26a",
   "metadata": {},
   "source": [
    "At this stage we re-export the suppliers to excel so we can add metadeta (size, location, industry) and the Z-Score using the Eikon Excel add-in"
   ]
  },
  {
   "cell_type": "code",
   "execution_count": 209,
   "id": "e5a005e3-b80e-42db-bd21-92b6fb59daa1",
   "metadata": {},
   "outputs": [],
   "source": [
    "#df_result.to_excel(r\"C:\\Users\\Simon\\Downloads\\df_result1.xlsx\")"
   ]
  },
  {
   "cell_type": "code",
   "execution_count": 227,
   "id": "4a72d77e-ceee-4f7c-954f-5ce5858ce6f0",
   "metadata": {},
   "outputs": [],
   "source": [
    "df_altman_temp= pd.read_excel(r\"C:\\Users\\Simon\\Downloads\\results_altman.xlsx\")"
   ]
  },
  {
   "cell_type": "code",
   "execution_count": 228,
   "id": "9d12437c-aab0-4fa4-adfb-6d04d0cf070a",
   "metadata": {},
   "outputs": [],
   "source": [
    "#The finacial information for the altman score is only available for oughly 50% of suppliers. Unfortunately those for which it is not available have to be excluded\n",
    "df_altman=df_altman_temp[df_altman_temp['Z_is_error']==0]"
   ]
  },
  {
   "cell_type": "code",
   "execution_count": 241,
   "id": "5d315f85-9a77-40de-ad93-c75fc8ed0ee2",
   "metadata": {},
   "outputs": [
    {
     "data": {
      "text/html": [
       "<div>\n",
       "<style scoped>\n",
       "    .dataframe tbody tr th:only-of-type {\n",
       "        vertical-align: middle;\n",
       "    }\n",
       "\n",
       "    .dataframe tbody tr th {\n",
       "        vertical-align: top;\n",
       "    }\n",
       "\n",
       "    .dataframe thead th {\n",
       "        text-align: right;\n",
       "    }\n",
       "</style>\n",
       "<table border=\"1\" class=\"dataframe\">\n",
       "  <thead>\n",
       "    <tr style=\"text-align: right;\">\n",
       "      <th></th>\n",
       "      <th>Unnamed: 0</th>\n",
       "      <th>Supplier_Name</th>\n",
       "      <th>new_customers</th>\n",
       "      <th>have_scf</th>\n",
       "      <th>disclose_scf</th>\n",
       "      <th>%_have_scf</th>\n",
       "      <th>%_have_undisclosed_scf</th>\n",
       "      <th>Year</th>\n",
       "      <th>Year_Eikon_Helper</th>\n",
       "      <th>Supplier_ID</th>\n",
       "      <th>Altman_Z</th>\n",
       "      <th>Z_is_error</th>\n",
       "      <th>Country</th>\n",
       "      <th>Industry</th>\n",
       "    </tr>\n",
       "  </thead>\n",
       "  <tbody>\n",
       "    <tr>\n",
       "      <th>0</th>\n",
       "      <td>289</td>\n",
       "      <td>2242749 Ontario Ltd</td>\n",
       "      <td>1</td>\n",
       "      <td>1</td>\n",
       "      <td>0</td>\n",
       "      <td>1.0</td>\n",
       "      <td>1.0</td>\n",
       "      <td>2017</td>\n",
       "      <td>Sdate=2017-12-31</td>\n",
       "      <td>4295860981</td>\n",
       "      <td>-1.010075</td>\n",
       "      <td>0</td>\n",
       "      <td>Canada</td>\n",
       "      <td>Homebuilding &amp; Construction Supplies</td>\n",
       "    </tr>\n",
       "    <tr>\n",
       "      <th>1</th>\n",
       "      <td>3609</td>\n",
       "      <td>2242749 Ontario Ltd</td>\n",
       "      <td>1</td>\n",
       "      <td>1</td>\n",
       "      <td>0</td>\n",
       "      <td>1.0</td>\n",
       "      <td>1.0</td>\n",
       "      <td>2018</td>\n",
       "      <td>Sdate=2018-12-31</td>\n",
       "      <td>4295860981</td>\n",
       "      <td>-1.010075</td>\n",
       "      <td>0</td>\n",
       "      <td>Canada</td>\n",
       "      <td>Homebuilding &amp; Construction Supplies</td>\n",
       "    </tr>\n",
       "    <tr>\n",
       "      <th>2</th>\n",
       "      <td>7806</td>\n",
       "      <td>2242749 Ontario Ltd</td>\n",
       "      <td>1</td>\n",
       "      <td>1</td>\n",
       "      <td>0</td>\n",
       "      <td>1.0</td>\n",
       "      <td>1.0</td>\n",
       "      <td>2019</td>\n",
       "      <td>Sdate=2019-12-31</td>\n",
       "      <td>4295860981</td>\n",
       "      <td>-1.010075</td>\n",
       "      <td>0</td>\n",
       "      <td>Canada</td>\n",
       "      <td>Homebuilding &amp; Construction Supplies</td>\n",
       "    </tr>\n",
       "  </tbody>\n",
       "</table>\n",
       "</div>"
      ],
      "text/plain": [
       "   Unnamed: 0        Supplier_Name  new_customers  have_scf  disclose_scf  \\\n",
       "0         289  2242749 Ontario Ltd              1         1             0   \n",
       "1        3609  2242749 Ontario Ltd              1         1             0   \n",
       "2        7806  2242749 Ontario Ltd              1         1             0   \n",
       "\n",
       "   %_have_scf  %_have_undisclosed_scf  Year Year_Eikon_Helper  Supplier_ID  \\\n",
       "0         1.0                     1.0  2017  Sdate=2017-12-31   4295860981   \n",
       "1         1.0                     1.0  2018  Sdate=2018-12-31   4295860981   \n",
       "2         1.0                     1.0  2019  Sdate=2019-12-31   4295860981   \n",
       "\n",
       "   Altman_Z  Z_is_error Country                              Industry  \n",
       "0 -1.010075           0  Canada  Homebuilding & Construction Supplies  \n",
       "1 -1.010075           0  Canada  Homebuilding & Construction Supplies  \n",
       "2 -1.010075           0  Canada  Homebuilding & Construction Supplies  "
      ]
     },
     "execution_count": 241,
     "metadata": {},
     "output_type": "execute_result"
    }
   ],
   "source": [
    "df_altman.head(3)"
   ]
  },
  {
   "cell_type": "code",
   "execution_count": 242,
   "id": "d9cfe7bc-eeff-4589-bb2f-1fbe6a9a27b6",
   "metadata": {},
   "outputs": [],
   "source": [
    "#Download the final df ready for analysis\n",
    "#df_altman.to_excel(r\"C:\\Users\\Simon\\Downloads\\df_altman7.xlsx\")"
   ]
  },
  {
   "cell_type": "code",
   "execution_count": null,
   "id": "f00b4eb1-9759-4879-a4f5-46e592ac013a",
   "metadata": {},
   "outputs": [],
   "source": []
  }
 ],
 "metadata": {
  "kernelspec": {
   "display_name": "Python 3 (ipykernel)",
   "language": "python",
   "name": "python3"
  },
  "language_info": {
   "codemirror_mode": {
    "name": "ipython",
    "version": 3
   },
   "file_extension": ".py",
   "mimetype": "text/x-python",
   "name": "python",
   "nbconvert_exporter": "python",
   "pygments_lexer": "ipython3",
   "version": "3.9.7"
  }
 },
 "nbformat": 4,
 "nbformat_minor": 5
}
