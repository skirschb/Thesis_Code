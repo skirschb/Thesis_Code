{
 "cells": [
  {
   "cell_type": "markdown",
   "id": "f611a453-67a1-4bed-8a35-3e1a143c651c",
   "metadata": {},
   "source": [
    "This code should analyze data using a Fixed Effects method.\n",
    "\n",
    "Author: Simon Kirschberger\n",
    "Partial Source:   Lost Stats. (n.d.). Fixed Effects in Linear Regression. LOST. Retrieved June 21, 2022, from https://lost-stats.github.io/Model_Estimation/OLS/fixed_effects_in_linear_regression.html\n"
   ]
  },
  {
   "cell_type": "code",
   "execution_count": 283,
   "id": "73f683ae-7702-4546-bad1-39b83a2d3944",
   "metadata": {},
   "outputs": [],
   "source": [
    "#import relevant libraries\n",
    "import numpy as np\n",
    "import pandas as pd\n",
    "from linearmodels import PanelOLS\n",
    "from linearmodels import RandomEffects\n",
    "import statsmodels.api as sm\n",
    "import pandas as pd\n",
    "import scipy.stats as st\n",
    "import statsmodels.api as sm\n",
    "import statsmodels.formula.api as smf\n",
    "from statsmodels.compat import lzip\n",
    "from matplotlib import pyplot as plt\n",
    "import seaborn as sns\n",
    "from statsmodels.stats.diagnostic import het_white\n",
    "import scipy.stats"
   ]
  },
  {
   "cell_type": "code",
   "execution_count": 184,
   "id": "38223123-f793-4386-9991-ffede00c908f",
   "metadata": {},
   "outputs": [],
   "source": [
    "#import data\n",
    "df_panel= pd.read_excel(r\"C:\\Users\\Simon\\Downloads\\df_altman7.xlsx\")"
   ]
  },
  {
   "cell_type": "code",
   "execution_count": 185,
   "id": "6c270d95-aa50-4168-93d7-fec10ae4cd37",
   "metadata": {},
   "outputs": [],
   "source": [
    "#Set filters\n",
    "Altman_Lower_Bound = -30\n",
    "Altman_Upper_Bound = 30\n",
    "Customer_Minimum = 2\n",
    "Undisclosed_Lower_Bound = 0.01\n",
    "Undisclosed_Upper_Bound = 1\n",
    "SCF_Lower_Bound = 0\n",
    "SCF_Upper_Bound = 1\n",
    "Year_Lower_Bound = 2017\n",
    "Year_Upper_Bound = 2021\n",
    "#Industry = ''\n",
    "Country = ['Canada', 'France', 'United States of America', 'Germany', 'China',\n",
    "       'Croatia', 'South Africa', 'United Kingdom', 'Japan', 'Taiwan',\n",
    "       'Denmark', 'Cyprus', 'Netherlands', 'Austria', 'Switzerland',\n",
    "       'Spain', 'Belgium', 'Sweden', 'Ireland; Republic of',\n",
    "       'New Zealand', 'India', 'Peru', 'Israel', 'Russia', 'Tunisia',\n",
    "       'Norway', 'Mexico', 'Bermuda', 'Australia', 'Brazil',\n",
    "       'United Arab Emirates', 'Luxembourg', 'Jordan', 'Uruguay',\n",
    "       'Poland', 'Singapore', 'Malaysia', 'Finland', 'Hong Kong',\n",
    "       'Cayman Islands', 'Mauritius', 'Italy', 'Turkey', 'Chile',\n",
    "       'Panama', 'Monaco', 'Korea; Republic (S. Korea)', 'Greece',\n",
    "       'Sri Lanka', 'Vietnam', 'Colombia', 'Saudi Arabia', 'Indonesia',\n",
    "       'Philippines', 'Jersey', 'Romania', 'Thailand', 'Pakistan',\n",
    "       'Hungary', 'Egypt', 'Malta', 'Papua New Guinea', 'Qatar',\n",
    "       'Kazakhstan', 'Nigeria', 'Kenya', 'Bahamas', 'Ukraine',\n",
    "       'Argentina']"
   ]
  },
  {
   "cell_type": "code",
   "execution_count": 187,
   "id": "1dc9238f-f086-4c87-94e8-3f5f57cfabcf",
   "metadata": {},
   "outputs": [],
   "source": [
    "#Apply Filters\n",
    "df_panel = df_panel[df_panel['Altman_Z'].between(Altman_Lower_Bound, Altman_Upper_Bound)]\n",
    "df_panel = df_panel[df_panel['%_have_undisclosed_scf'].between(Undisclosed_Lower_Bound, Undisclosed_Upper_Bound)]\n",
    "df_panel = df_panel[df_panel['Year'].between(Year_Lower_Bound, Year_Upper_Bound)]\n",
    "df_panel = df_panel[df_panel['%_have_scf'].between(SCF_Lower_Bound, SCF_Upper_Bound)]\n",
    "df_panel = df_panel[df_panel['new_customers'] >Customer_Minimum]\n",
    "#df_panel = df_panel[df_panel['Industry'] ==Industry]\n",
    "df_panel = df_panel[df_panel['Country'].isin(Country)]"
   ]
  },
  {
   "cell_type": "code",
   "execution_count": 188,
   "id": "db3fa725-dfcb-4709-b3e5-8b5b5b1ecc4d",
   "metadata": {},
   "outputs": [],
   "source": [
    "#remove unnessecary columns\n",
    "df_panel['percentage_have_undisclosed_scf']=df_panel['%_have_undisclosed_scf']\n",
    "df_panel['percentage_have_scf']=df_panel['%_have_scf']\n",
    "df_panel.drop(['Unnamed: 0', 'Unnamed: 0.1', 'new_customers', 'have_scf', 'disclose_scf', 'Year_Eikon_Helper', 'Z_is_error','Supplier_ID','%_have_undisclosed_scf','%_have_scf'] , axis=1, inplace=True)\n"
   ]
  },
  {
   "cell_type": "code",
   "execution_count": 245,
   "id": "d66dc28e-16c5-4e4f-966e-2c44eb021e9e",
   "metadata": {},
   "outputs": [],
   "source": [
    "#Combine the Industry and country to create a combination of columns over which will be iterated to create a dummy column matrix\n",
    "df_panel['entity'] = df_panel['Industry']+df_panel['Country']"
   ]
  },
  {
   "cell_type": "code",
   "execution_count": 246,
   "id": "0c4ac8e5-0f8b-4f74-b07a-591ac4f7dc56",
   "metadata": {},
   "outputs": [
    {
     "data": {
      "text/html": [
       "<div>\n",
       "<style scoped>\n",
       "    .dataframe tbody tr th:only-of-type {\n",
       "        vertical-align: middle;\n",
       "    }\n",
       "\n",
       "    .dataframe tbody tr th {\n",
       "        vertical-align: top;\n",
       "    }\n",
       "\n",
       "    .dataframe thead th {\n",
       "        text-align: right;\n",
       "    }\n",
       "</style>\n",
       "<table border=\"1\" class=\"dataframe\">\n",
       "  <thead>\n",
       "    <tr style=\"text-align: right;\">\n",
       "      <th></th>\n",
       "      <th>Supplier_Name</th>\n",
       "      <th>Year</th>\n",
       "      <th>Altman_Z</th>\n",
       "      <th>Country</th>\n",
       "      <th>Industry</th>\n",
       "      <th>percentage_have_undisclosed_scf</th>\n",
       "      <th>percentage_have_scf</th>\n",
       "      <th>entity</th>\n",
       "    </tr>\n",
       "  </thead>\n",
       "  <tbody>\n",
       "    <tr>\n",
       "      <th>5</th>\n",
       "      <td>2Crsi SA</td>\n",
       "      <td>2021</td>\n",
       "      <td>3.186334</td>\n",
       "      <td>France</td>\n",
       "      <td>Computers, Phones &amp; Household Electronics</td>\n",
       "      <td>0.250000</td>\n",
       "      <td>0.250000</td>\n",
       "      <td>Computers, Phones &amp; Household ElectronicsFrance</td>\n",
       "    </tr>\n",
       "    <tr>\n",
       "      <th>11</th>\n",
       "      <td>4Sc AG</td>\n",
       "      <td>2021</td>\n",
       "      <td>3.149493</td>\n",
       "      <td>Germany</td>\n",
       "      <td>Biotechnology &amp; Medical Research</td>\n",
       "      <td>0.333333</td>\n",
       "      <td>0.333333</td>\n",
       "      <td>Biotechnology &amp; Medical ResearchGermany</td>\n",
       "    </tr>\n",
       "    <tr>\n",
       "      <th>31</th>\n",
       "      <td>AAR Corp</td>\n",
       "      <td>2020</td>\n",
       "      <td>5.434088</td>\n",
       "      <td>United States of America</td>\n",
       "      <td>Aerospace &amp; Defense</td>\n",
       "      <td>0.071429</td>\n",
       "      <td>0.142857</td>\n",
       "      <td>Aerospace &amp; DefenseUnited States of America</td>\n",
       "    </tr>\n",
       "  </tbody>\n",
       "</table>\n",
       "</div>"
      ],
      "text/plain": [
       "   Supplier_Name  Year  Altman_Z                   Country  \\\n",
       "5       2Crsi SA  2021  3.186334                    France   \n",
       "11        4Sc AG  2021  3.149493                   Germany   \n",
       "31      AAR Corp  2020  5.434088  United States of America   \n",
       "\n",
       "                                     Industry  \\\n",
       "5   Computers, Phones & Household Electronics   \n",
       "11           Biotechnology & Medical Research   \n",
       "31                        Aerospace & Defense   \n",
       "\n",
       "    percentage_have_undisclosed_scf  percentage_have_scf  \\\n",
       "5                          0.250000             0.250000   \n",
       "11                         0.333333             0.333333   \n",
       "31                         0.071429             0.142857   \n",
       "\n",
       "                                             entity  \n",
       "5   Computers, Phones & Household ElectronicsFrance  \n",
       "11          Biotechnology & Medical ResearchGermany  \n",
       "31      Aerospace & DefenseUnited States of America  "
      ]
     },
     "execution_count": 246,
     "metadata": {},
     "output_type": "execute_result"
    }
   ],
   "source": [
    "df_panel.head(3)"
   ]
  },
  {
   "cell_type": "code",
   "execution_count": 244,
   "id": "439f8c7e-794b-4172-afc7-4589514ea4a3",
   "metadata": {},
   "outputs": [],
   "source": [
    "#Set multiindex\n",
    "data = df_panel.set_index(['entity', 'Year'])"
   ]
  },
  {
   "cell_type": "code",
   "execution_count": 247,
   "id": "3ddf98ce-ce1c-4f33-888e-98bf2c4166e7",
   "metadata": {},
   "outputs": [
    {
     "data": {
      "text/html": [
       "<div>\n",
       "<style scoped>\n",
       "    .dataframe tbody tr th:only-of-type {\n",
       "        vertical-align: middle;\n",
       "    }\n",
       "\n",
       "    .dataframe tbody tr th {\n",
       "        vertical-align: top;\n",
       "    }\n",
       "\n",
       "    .dataframe thead th {\n",
       "        text-align: right;\n",
       "    }\n",
       "</style>\n",
       "<table border=\"1\" class=\"dataframe\">\n",
       "  <thead>\n",
       "    <tr style=\"text-align: right;\">\n",
       "      <th></th>\n",
       "      <th></th>\n",
       "      <th>Supplier_Name</th>\n",
       "      <th>Altman_Z</th>\n",
       "      <th>Country</th>\n",
       "      <th>Industry</th>\n",
       "      <th>percentage_have_undisclosed_scf</th>\n",
       "      <th>percentage_have_scf</th>\n",
       "    </tr>\n",
       "    <tr>\n",
       "      <th>entity</th>\n",
       "      <th>Year</th>\n",
       "      <th></th>\n",
       "      <th></th>\n",
       "      <th></th>\n",
       "      <th></th>\n",
       "      <th></th>\n",
       "      <th></th>\n",
       "    </tr>\n",
       "  </thead>\n",
       "  <tbody>\n",
       "    <tr>\n",
       "      <th>Computers, Phones &amp; Household ElectronicsFrance</th>\n",
       "      <th>2021</th>\n",
       "      <td>2Crsi SA</td>\n",
       "      <td>3.186334</td>\n",
       "      <td>France</td>\n",
       "      <td>Computers, Phones &amp; Household Electronics</td>\n",
       "      <td>0.250000</td>\n",
       "      <td>0.250000</td>\n",
       "    </tr>\n",
       "    <tr>\n",
       "      <th>Biotechnology &amp; Medical ResearchGermany</th>\n",
       "      <th>2021</th>\n",
       "      <td>4Sc AG</td>\n",
       "      <td>3.149493</td>\n",
       "      <td>Germany</td>\n",
       "      <td>Biotechnology &amp; Medical Research</td>\n",
       "      <td>0.333333</td>\n",
       "      <td>0.333333</td>\n",
       "    </tr>\n",
       "    <tr>\n",
       "      <th rowspan=\"2\" valign=\"top\">Aerospace &amp; DefenseUnited States of America</th>\n",
       "      <th>2020</th>\n",
       "      <td>AAR Corp</td>\n",
       "      <td>5.434088</td>\n",
       "      <td>United States of America</td>\n",
       "      <td>Aerospace &amp; Defense</td>\n",
       "      <td>0.071429</td>\n",
       "      <td>0.142857</td>\n",
       "    </tr>\n",
       "    <tr>\n",
       "      <th>2021</th>\n",
       "      <td>AAR Corp</td>\n",
       "      <td>7.061378</td>\n",
       "      <td>United States of America</td>\n",
       "      <td>Aerospace &amp; Defense</td>\n",
       "      <td>0.066667</td>\n",
       "      <td>0.133333</td>\n",
       "    </tr>\n",
       "    <tr>\n",
       "      <th>Professional &amp; Commercial ServicesUnited States of America</th>\n",
       "      <th>2018</th>\n",
       "      <td>ACCO Brands Corp</td>\n",
       "      <td>1.066228</td>\n",
       "      <td>United States of America</td>\n",
       "      <td>Professional &amp; Commercial Services</td>\n",
       "      <td>0.250000</td>\n",
       "      <td>0.250000</td>\n",
       "    </tr>\n",
       "  </tbody>\n",
       "</table>\n",
       "</div>"
      ],
      "text/plain": [
       "                                                            Supplier_Name  \\\n",
       "entity                                             Year                     \n",
       "Computers, Phones & Household ElectronicsFrance    2021          2Crsi SA   \n",
       "Biotechnology & Medical ResearchGermany            2021            4Sc AG   \n",
       "Aerospace & DefenseUnited States of America        2020          AAR Corp   \n",
       "                                                   2021          AAR Corp   \n",
       "Professional & Commercial ServicesUnited States... 2018  ACCO Brands Corp   \n",
       "\n",
       "                                                         Altman_Z  \\\n",
       "entity                                             Year             \n",
       "Computers, Phones & Household ElectronicsFrance    2021  3.186334   \n",
       "Biotechnology & Medical ResearchGermany            2021  3.149493   \n",
       "Aerospace & DefenseUnited States of America        2020  5.434088   \n",
       "                                                   2021  7.061378   \n",
       "Professional & Commercial ServicesUnited States... 2018  1.066228   \n",
       "\n",
       "                                                                          Country  \\\n",
       "entity                                             Year                             \n",
       "Computers, Phones & Household ElectronicsFrance    2021                    France   \n",
       "Biotechnology & Medical ResearchGermany            2021                   Germany   \n",
       "Aerospace & DefenseUnited States of America        2020  United States of America   \n",
       "                                                   2021  United States of America   \n",
       "Professional & Commercial ServicesUnited States... 2018  United States of America   \n",
       "\n",
       "                                                                                          Industry  \\\n",
       "entity                                             Year                                              \n",
       "Computers, Phones & Household ElectronicsFrance    2021  Computers, Phones & Household Electronics   \n",
       "Biotechnology & Medical ResearchGermany            2021           Biotechnology & Medical Research   \n",
       "Aerospace & DefenseUnited States of America        2020                        Aerospace & Defense   \n",
       "                                                   2021                        Aerospace & Defense   \n",
       "Professional & Commercial ServicesUnited States... 2018         Professional & Commercial Services   \n",
       "\n",
       "                                                         percentage_have_undisclosed_scf  \\\n",
       "entity                                             Year                                    \n",
       "Computers, Phones & Household ElectronicsFrance    2021                         0.250000   \n",
       "Biotechnology & Medical ResearchGermany            2021                         0.333333   \n",
       "Aerospace & DefenseUnited States of America        2020                         0.071429   \n",
       "                                                   2021                         0.066667   \n",
       "Professional & Commercial ServicesUnited States... 2018                         0.250000   \n",
       "\n",
       "                                                         percentage_have_scf  \n",
       "entity                                             Year                       \n",
       "Computers, Phones & Household ElectronicsFrance    2021             0.250000  \n",
       "Biotechnology & Medical ResearchGermany            2021             0.333333  \n",
       "Aerospace & DefenseUnited States of America        2020             0.142857  \n",
       "                                                   2021             0.133333  \n",
       "Professional & Commercial ServicesUnited States... 2018             0.250000  "
      ]
     },
     "execution_count": 247,
     "metadata": {},
     "output_type": "execute_result"
    }
   ],
   "source": [
    "#inspect df\n",
    "data.head(5)"
   ]
  },
  {
   "cell_type": "code",
   "execution_count": 256,
   "id": "74e99e9a-17fd-43fd-9e67-cfd7978ef838",
   "metadata": {},
   "outputs": [],
   "source": [
    "#Set up FE model\n",
    "FE = PanelOLS(data.Altman_Z, data[['percentage_have_scf']],\n",
    "              entity_effects = True,\n",
    "              time_effects=True,\n",
    "              )"
   ]
  },
  {
   "cell_type": "code",
   "execution_count": 257,
   "id": "2b277264-b3d5-44df-9acc-67ea2d192140",
   "metadata": {},
   "outputs": [],
   "source": [
    "#Configure model\n",
    "result = FE.fit(cov_type = 'clustered',\n",
    "             cluster_entity=True,\n",
    "              cluster_time=True\n",
    "             )"
   ]
  },
  {
   "cell_type": "code",
   "execution_count": 258,
   "id": "af0dbf87-fc64-4d17-8d49-af3969db277c",
   "metadata": {},
   "outputs": [
    {
     "name": "stdout",
     "output_type": "stream",
     "text": [
      "                          PanelOLS Estimation Summary                           \n",
      "================================================================================\n",
      "Dep. Variable:               Altman_Z   R-squared:                        0.0030\n",
      "Estimator:                   PanelOLS   R-squared (Between):              0.1263\n",
      "No. Observations:                5440   R-squared (Within):               0.0030\n",
      "Date:                Wed, Jun 22 2022   R-squared (Overall):              0.0707\n",
      "Time:                        17:44:02   Log-likelihood                -1.781e+04\n",
      "Cov. Estimator:             Clustered                                           \n",
      "                                        F-statistic:                      15.361\n",
      "Entities:                         393   P-value                           0.0001\n",
      "Avg Obs:                       13.842   Distribution:                  F(1,5042)\n",
      "Min Obs:                       1.0000                                           \n",
      "Max Obs:                       609.00   F-statistic (robust):             5.9877\n",
      "                                        P-value                           0.0144\n",
      "Time periods:                       5   Distribution:                  F(1,5042)\n",
      "Avg Obs:                       1088.0                                           \n",
      "Min Obs:                       703.00                                           \n",
      "Max Obs:                       1436.0                                           \n",
      "                                                                                \n",
      "                                  Parameter Estimates                                  \n",
      "=======================================================================================\n",
      "                     Parameter  Std. Err.     T-stat    P-value    Lower CI    Upper CI\n",
      "---------------------------------------------------------------------------------------\n",
      "percentage_have_scf     2.3403     0.9564     2.4470     0.0144      0.4653      4.2153\n",
      "=======================================================================================\n",
      "\n",
      "F-test for Poolability: 3.7399\n",
      "P-value: 0.0000\n",
      "Distribution: F(396,5042)\n",
      "\n",
      "Included effects: Entity, Time\n"
     ]
    },
    {
     "data": {
      "text/plain": [
       "percentage_have_scf    2.340298\n",
       "Name: parameter, dtype: float64"
      ]
     },
     "execution_count": 258,
     "metadata": {},
     "output_type": "execute_result"
    }
   ],
   "source": [
    "#Print Results\n",
    "print(result)\n",
    "result.params"
   ]
  },
  {
   "cell_type": "code",
   "execution_count": 248,
   "id": "1969b32a-31d6-4f34-a9e3-3d5f617c3322",
   "metadata": {},
   "outputs": [
    {
     "name": "stderr",
     "output_type": "stream",
     "text": [
      "C:\\Users\\Simon\\anaconda3\\lib\\site-packages\\statsmodels\\graphics\\gofplots.py:993: UserWarning: marker is redundantly defined by the 'marker' keyword argument and the fmt string \"bo\" (-> marker='o'). The keyword argument will take precedence.\n",
      "  ax.plot(x, y, fmt, **plot_style)\n"
     ]
    },
    {
     "data": {
      "image/png": "[encoded data removed]",
      "text/plain": [
       "<Figure size 1152x648 with 1 Axes>"
      ]
     },
     "metadata": {
      "needs_background": "light"
     },
     "output_type": "display_data"
    }
   ],
   "source": [
    "sm.qqplot(data=result.resids, line='45')\n",
    "plt.xlabel(\"Theoretical Quantiles\",  fontsize=16)\n",
    "plt.ylabel(\"Sample Quantiles\",  fontsize=16)\n",
    "plt.title(\"Quartile-Quartile Chart\" ,fontsize=16)\n",
    "plt.rcParams[\"figure.figsize\"] = (16,9)\n",
    "#plt.savefig(r\"C:\\Users\\Simon\\Downloads\\qq4.png\", dpi=300,bbox_inches='tight')\n",
    "plt.show()"
   ]
  },
  {
   "cell_type": "code",
   "execution_count": 294,
   "id": "a28e97d9-0ae6-4dc0-b4df-c0bda055cd26",
   "metadata": {},
   "outputs": [
    {
     "data": {
      "text/plain": [
       "18.512820512820497"
      ]
     },
     "execution_count": 294,
     "metadata": {},
     "output_type": "execute_result"
    }
   ],
   "source": [
    "scipy.stats.f.ppf(q=1-.05, dfn=1, dfd=2)"
   ]
  },
  {
   "cell_type": "code",
   "execution_count": null,
   "id": "1c4a2d48-6fb0-4d2b-a137-57e976bec414",
   "metadata": {},
   "outputs": [],
   "source": []
  }
 ],
 "metadata": {
  "kernelspec": {
   "display_name": "Python 3 (ipykernel)",
   "language": "python",
   "name": "python3"
  },
  "language_info": {
   "codemirror_mode": {
    "name": "ipython",
    "version": 3
   },
   "file_extension": ".py",
   "mimetype": "text/x-python",
   "name": "python",
   "nbconvert_exporter": "python",
   "pygments_lexer": "ipython3",
   "version": "3.9.7"
  }
 },
 "nbformat": 4,
 "nbformat_minor": 5
}
